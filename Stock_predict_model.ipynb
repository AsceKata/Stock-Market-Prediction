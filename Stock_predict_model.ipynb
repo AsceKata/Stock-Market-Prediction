{
 "cells": [
  {
   "cell_type": "code",
   "execution_count": 86,
   "id": "reported-petersburg",
   "metadata": {},
   "outputs": [
    {
     "name": "stdout",
     "output_type": "stream",
     "text": [
      "2.7.0\n"
     ]
    }
   ],
   "source": [
    "import tensorflow as tf\n",
    "from tensorflow import keras\n",
    "from tensorflow.keras import layers\n",
    "import numpy as np\n",
    "import progressbar\n",
    "import matplotlib.pyplot as plt\n",
    "print(tf.__version__)"
   ]
  },
  {
   "cell_type": "code",
   "execution_count": 87,
   "id": "spanish-millennium",
   "metadata": {},
   "outputs": [],
   "source": [
    "import math\n",
    "import matplotlib.pyplot as plt\n",
    "import keras\n",
    "import pandas as pd\n",
    "import numpy as np\n",
    "from array import array \n",
    "from keras.models import Sequential\n",
    "from keras.layers import Dense\n",
    "from keras.layers import LSTM\n",
    "from keras.layers import Dropout\n",
    "from keras.layers import *\n",
    "from sklearn.preprocessing import MinMaxScaler\n",
    "from sklearn.metrics import mean_squared_error\n",
    "from sklearn.metrics import mean_absolute_error\n",
    "from sklearn.model_selection import train_test_split\n",
    "from keras.callbacks import EarlyStopping"
   ]
  },
  {
   "cell_type": "code",
   "execution_count": 88,
   "id": "bb13b95b",
   "metadata": {},
   "outputs": [],
   "source": [
    "# import pandas as pd\n",
    "# import pyodbc \n",
    "\n",
    "# conn = pyodbc.connect('Driver={SQL Server};'\n",
    "#                       'Server=RON\\SQLEXPRESS;'\n",
    "#                       'Database=test_database;'\n",
    "#                       'Trusted_Connection=yes;')\n",
    "\n",
    "# df = pd.read_sql_query('SELECT * FROM products', conn)\n",
    "\n",
    "# print(df)\n",
    "# print(type(df))"
   ]
  },
  {
   "cell_type": "code",
   "execution_count": 89,
   "id": "funded-hybrid",
   "metadata": {
    "scrolled": false
   },
   "outputs": [
    {
     "data": {
      "text/html": [
       "<div>\n",
       "<style scoped>\n",
       "    .dataframe tbody tr th:only-of-type {\n",
       "        vertical-align: middle;\n",
       "    }\n",
       "\n",
       "    .dataframe tbody tr th {\n",
       "        vertical-align: top;\n",
       "    }\n",
       "\n",
       "    .dataframe thead th {\n",
       "        text-align: right;\n",
       "    }\n",
       "</style>\n",
       "<table border=\"1\" class=\"dataframe\">\n",
       "  <thead>\n",
       "    <tr style=\"text-align: right;\">\n",
       "      <th></th>\n",
       "      <th>Open</th>\n",
       "      <th>High</th>\n",
       "      <th>Low</th>\n",
       "      <th>Close</th>\n",
       "      <th>Volume</th>\n",
       "      <th>Dividends</th>\n",
       "      <th>Stock Splits</th>\n",
       "    </tr>\n",
       "    <tr>\n",
       "      <th>Date</th>\n",
       "      <th></th>\n",
       "      <th></th>\n",
       "      <th></th>\n",
       "      <th></th>\n",
       "      <th></th>\n",
       "      <th></th>\n",
       "      <th></th>\n",
       "    </tr>\n",
       "  </thead>\n",
       "  <tbody>\n",
       "    <tr>\n",
       "      <th>2021-12-07</th>\n",
       "      <td>50581.828125</td>\n",
       "      <td>51934.781250</td>\n",
       "      <td>50175.808594</td>\n",
       "      <td>50700.085938</td>\n",
       "      <td>33676814852</td>\n",
       "      <td>0</td>\n",
       "      <td>0</td>\n",
       "    </tr>\n",
       "    <tr>\n",
       "      <th>2021-12-08</th>\n",
       "      <td>50667.648438</td>\n",
       "      <td>51171.375000</td>\n",
       "      <td>48765.988281</td>\n",
       "      <td>50504.796875</td>\n",
       "      <td>28479699446</td>\n",
       "      <td>0</td>\n",
       "      <td>0</td>\n",
       "    </tr>\n",
       "    <tr>\n",
       "      <th>2021-12-09</th>\n",
       "      <td>50450.082031</td>\n",
       "      <td>50797.164062</td>\n",
       "      <td>47358.351562</td>\n",
       "      <td>47672.121094</td>\n",
       "      <td>29603577251</td>\n",
       "      <td>0</td>\n",
       "      <td>0</td>\n",
       "    </tr>\n",
       "    <tr>\n",
       "      <th>2021-12-10</th>\n",
       "      <td>47642.144531</td>\n",
       "      <td>50015.253906</td>\n",
       "      <td>47023.699219</td>\n",
       "      <td>47243.304688</td>\n",
       "      <td>30966005122</td>\n",
       "      <td>0</td>\n",
       "      <td>0</td>\n",
       "    </tr>\n",
       "    <tr>\n",
       "      <th>2021-12-11</th>\n",
       "      <td>47264.632812</td>\n",
       "      <td>49458.210938</td>\n",
       "      <td>46942.347656</td>\n",
       "      <td>49362.507812</td>\n",
       "      <td>25775869261</td>\n",
       "      <td>0</td>\n",
       "      <td>0</td>\n",
       "    </tr>\n",
       "    <tr>\n",
       "      <th>2021-12-12</th>\n",
       "      <td>49354.855469</td>\n",
       "      <td>50724.867188</td>\n",
       "      <td>48725.851562</td>\n",
       "      <td>50098.335938</td>\n",
       "      <td>21939223599</td>\n",
       "      <td>0</td>\n",
       "      <td>0</td>\n",
       "    </tr>\n",
       "    <tr>\n",
       "      <th>2021-12-13</th>\n",
       "      <td>50114.742188</td>\n",
       "      <td>50205.000000</td>\n",
       "      <td>45894.847656</td>\n",
       "      <td>46737.480469</td>\n",
       "      <td>32166727776</td>\n",
       "      <td>0</td>\n",
       "      <td>0</td>\n",
       "    </tr>\n",
       "    <tr>\n",
       "      <th>2021-12-14</th>\n",
       "      <td>46709.824219</td>\n",
       "      <td>48431.398438</td>\n",
       "      <td>46424.496094</td>\n",
       "      <td>46612.632812</td>\n",
       "      <td>34638619079</td>\n",
       "      <td>0</td>\n",
       "      <td>0</td>\n",
       "    </tr>\n",
       "    <tr>\n",
       "      <th>2021-12-15</th>\n",
       "      <td>48379.753906</td>\n",
       "      <td>49473.957031</td>\n",
       "      <td>46671.964844</td>\n",
       "      <td>48896.722656</td>\n",
       "      <td>36541828520</td>\n",
       "      <td>0</td>\n",
       "      <td>0</td>\n",
       "    </tr>\n",
       "    <tr>\n",
       "      <th>2021-12-16</th>\n",
       "      <td>48923.902344</td>\n",
       "      <td>49280.308594</td>\n",
       "      <td>48547.964844</td>\n",
       "      <td>49190.968750</td>\n",
       "      <td>36063006720</td>\n",
       "      <td>0</td>\n",
       "      <td>0</td>\n",
       "    </tr>\n",
       "  </tbody>\n",
       "</table>\n",
       "</div>"
      ],
      "text/plain": [
       "                    Open          High           Low         Close  \\\n",
       "Date                                                                 \n",
       "2021-12-07  50581.828125  51934.781250  50175.808594  50700.085938   \n",
       "2021-12-08  50667.648438  51171.375000  48765.988281  50504.796875   \n",
       "2021-12-09  50450.082031  50797.164062  47358.351562  47672.121094   \n",
       "2021-12-10  47642.144531  50015.253906  47023.699219  47243.304688   \n",
       "2021-12-11  47264.632812  49458.210938  46942.347656  49362.507812   \n",
       "2021-12-12  49354.855469  50724.867188  48725.851562  50098.335938   \n",
       "2021-12-13  50114.742188  50205.000000  45894.847656  46737.480469   \n",
       "2021-12-14  46709.824219  48431.398438  46424.496094  46612.632812   \n",
       "2021-12-15  48379.753906  49473.957031  46671.964844  48896.722656   \n",
       "2021-12-16  48923.902344  49280.308594  48547.964844  49190.968750   \n",
       "\n",
       "                 Volume  Dividends  Stock Splits  \n",
       "Date                                              \n",
       "2021-12-07  33676814852          0             0  \n",
       "2021-12-08  28479699446          0             0  \n",
       "2021-12-09  29603577251          0             0  \n",
       "2021-12-10  30966005122          0             0  \n",
       "2021-12-11  25775869261          0             0  \n",
       "2021-12-12  21939223599          0             0  \n",
       "2021-12-13  32166727776          0             0  \n",
       "2021-12-14  34638619079          0             0  \n",
       "2021-12-15  36541828520          0             0  \n",
       "2021-12-16  36063006720          0             0  "
      ]
     },
     "execution_count": 89,
     "metadata": {},
     "output_type": "execute_result"
    }
   ],
   "source": [
    "# historical data is imported using YFinance\n",
    "import yfinance as yf\n",
    "\n",
    "stock = yf.Ticker(\"BTC-USD\")\n",
    "hist = stock.history(period=\"5y\")\n",
    "\n",
    "df=hist\n",
    "\n",
    "hist.tail(10)\n",
    "# The ticker is a quick dispatch that tells you the current price of the stock"
   ]
  },
  {
   "cell_type": "code",
   "execution_count": 90,
   "id": "71147285",
   "metadata": {},
   "outputs": [
    {
     "name": "stdout",
     "output_type": "stream",
     "text": [
      "Is there any missing value?  False\n",
      "How many missing values?  0\n",
      "Number of participants after eliminating missing values:  1823\n"
     ]
    }
   ],
   "source": [
    "print('Is there any missing value? ', df.isnull().values.any())\n",
    "print('How many missing values? ', df.isnull().values.sum())\n",
    "df.dropna(inplace=True)\n",
    "print('Number of participants after eliminating missing values: ', len(df))"
   ]
  },
  {
   "cell_type": "code",
   "execution_count": 91,
   "id": "9a326d07",
   "metadata": {},
   "outputs": [
    {
     "data": {
      "image/png": "[encoded data removed]",
      "text/plain": [
       "<Figure size 720x432 with 1 Axes>"
      ]
     },
     "metadata": {
      "needs_background": "light"
     },
     "output_type": "display_data"
    }
   ],
   "source": [
    "# Visualize the closing price history\n",
    "plt.figure(figsize=(10,6))\n",
    "plt.title('close price history',fontsize=24)\n",
    "plt.plot(df['Close'])\n",
    "plt.xlabel('Date',fontsize=18)\n",
    "plt.ylabel('close price',fontsize=18)\n",
    "plt.show()"
   ]
  },
  {
   "cell_type": "code",
   "execution_count": 92,
   "id": "developmental-webster",
   "metadata": {
    "scrolled": true
   },
   "outputs": [],
   "source": [
    "# creation of training and test dataset\n",
    "\n",
    "d=30                 # number of days yo want to use the prediction dataset to predict future\n",
    "n=int(hist.shape[0]*0.8)\n",
    "data = df.filter(['Close'])\n",
    "dataset = data.values"
   ]
  },
  {
   "cell_type": "code",
   "execution_count": 93,
   "id": "c3fcb4dd",
   "metadata": {},
   "outputs": [
    {
     "data": {
      "text/plain": [
       "array([[1.07052894e-04],\n",
       "       [1.95720052e-04],\n",
       "       [1.91244017e-04],\n",
       "       ...,\n",
       "       [6.86263112e-01],\n",
       "       [7.20461669e-01],\n",
       "       [7.24867271e-01]])"
      ]
     },
     "execution_count": 93,
     "metadata": {},
     "output_type": "execute_result"
    }
   ],
   "source": [
    "# dataset is scaled and reshaped\n",
    "sc = MinMaxScaler(feature_range = (0, 1))\n",
    "scaled_data = sc.fit_transform(dataset)\n",
    "scaled_data"
   ]
  },
  {
   "cell_type": "code",
   "execution_count": 94,
   "id": "functional-comfort",
   "metadata": {},
   "outputs": [],
   "source": [
    "train_data = scaled_data[0:n,:]\n",
    "\n",
    "X_train = []\n",
    "y_train = []\n",
    "for i in range(d, len(train_data)):\n",
    "    X_train.append(train_data[i-d:i, 0])\n",
    "    y_train.append(train_data[i, 0])\n",
    "    if i<d:\n",
    "        print(X_train)\n",
    "        print(y_train)\n",
    "        print()\n"
   ]
  },
  {
   "cell_type": "code",
   "execution_count": 95,
   "id": "e407a158",
   "metadata": {},
   "outputs": [
    {
     "data": {
      "text/plain": [
       "(1428, 30)"
      ]
     },
     "execution_count": 95,
     "metadata": {},
     "output_type": "execute_result"
    }
   ],
   "source": [
    "X_train, y_train = np.array(X_train), np.array(y_train)\n",
    "X_train.shape"
   ]
  },
  {
   "cell_type": "code",
   "execution_count": 96,
   "id": "c1361752",
   "metadata": {
    "scrolled": true
   },
   "outputs": [
    {
     "data": {
      "text/plain": [
       "(1428, 30, 1)"
      ]
     },
     "execution_count": 96,
     "metadata": {},
     "output_type": "execute_result"
    }
   ],
   "source": [
    "X_train = np.reshape(X_train, (X_train.shape[0], X_train.shape[1], 1))\n",
    "X_train.shape"
   ]
  },
  {
   "cell_type": "code",
   "execution_count": 97,
   "id": "e406c9a5",
   "metadata": {
    "scrolled": true
   },
   "outputs": [
    {
     "name": "stdout",
     "output_type": "stream",
     "text": [
      "Epoch 1/100\n",
      "23/23 [==============================] - 2s 33ms/step - loss: 0.0015\n",
      "Epoch 2/100\n",
      "23/23 [==============================] - 1s 34ms/step - loss: 1.4790e-04\n",
      "Epoch 3/100\n",
      "23/23 [==============================] - 1s 34ms/step - loss: 1.0106e-04\n",
      "Epoch 4/100\n",
      "23/23 [==============================] - 1s 37ms/step - loss: 9.3228e-05\n",
      "Epoch 5/100\n",
      "23/23 [==============================] - 1s 34ms/step - loss: 9.1346e-05\n",
      "Epoch 6/100\n",
      "23/23 [==============================] - 1s 43ms/step - loss: 8.4782e-05\n",
      "Epoch 7/100\n",
      "23/23 [==============================] - 1s 31ms/step - loss: 8.2754e-05\n",
      "Epoch 8/100\n",
      "23/23 [==============================] - 1s 35ms/step - loss: 7.7287e-05\n",
      "Epoch 9/100\n",
      "23/23 [==============================] - 1s 35ms/step - loss: 7.4861e-05\n",
      "Epoch 10/100\n",
      "23/23 [==============================] - 1s 38ms/step - loss: 7.2016e-05\n",
      "Epoch 11/100\n",
      "23/23 [==============================] - 1s 36ms/step - loss: 6.8836e-05\n",
      "Epoch 12/100\n",
      "23/23 [==============================] - 1s 36ms/step - loss: 7.1528e-05: 0s - loss: \n",
      "Epoch 13/100\n",
      "23/23 [==============================] - 1s 36ms/step - loss: 6.8662e-05\n",
      "Epoch 14/100\n",
      "23/23 [==============================] - 1s 41ms/step - loss: 6.6904e-05\n",
      "Epoch 15/100\n",
      "23/23 [==============================] - 1s 40ms/step - loss: 6.8033e-05\n",
      "Epoch 16/100\n",
      "23/23 [==============================] - 1s 43ms/step - loss: 6.2939e-05\n",
      "Epoch 17/100\n",
      "23/23 [==============================] - 1s 34ms/step - loss: 6.3121e-05\n",
      "Epoch 18/100\n",
      "23/23 [==============================] - 1s 35ms/step - loss: 6.3385e-05\n",
      "Epoch 19/100\n",
      "23/23 [==============================] - 1s 33ms/step - loss: 6.3164e-05\n",
      "Epoch 20/100\n",
      "23/23 [==============================] - 1s 32ms/step - loss: 5.9873e-05\n",
      "Epoch 21/100\n",
      "23/23 [==============================] - 1s 33ms/step - loss: 5.6310e-05: 0s - loss: 6.23\n",
      "Epoch 22/100\n",
      "23/23 [==============================] - 1s 32ms/step - loss: 6.0637e-05\n",
      "Epoch 23/100\n",
      "23/23 [==============================] - 1s 32ms/step - loss: 5.7503e-05\n",
      "Epoch 24/100\n",
      "23/23 [==============================] - 1s 31ms/step - loss: 6.0776e-05\n",
      "Epoch 25/100\n",
      "23/23 [==============================] - 1s 31ms/step - loss: 5.4258e-05\n",
      "Epoch 26/100\n",
      "23/23 [==============================] - 1s 32ms/step - loss: 5.3000e-05\n",
      "Epoch 27/100\n",
      "23/23 [==============================] - 1s 31ms/step - loss: 5.2487e-05\n",
      "Epoch 28/100\n",
      "23/23 [==============================] - 1s 31ms/step - loss: 5.1687e-05\n",
      "Epoch 29/100\n",
      "23/23 [==============================] - 1s 32ms/step - loss: 5.1629e-05\n",
      "Epoch 30/100\n",
      "23/23 [==============================] - 1s 31ms/step - loss: 5.4059e-05\n",
      "Epoch 31/100\n",
      "23/23 [==============================] - 1s 31ms/step - loss: 5.4433e-05\n",
      "Epoch 32/100\n",
      "23/23 [==============================] - 1s 32ms/step - loss: 5.4845e-05\n",
      "Epoch 33/100\n",
      "23/23 [==============================] - 1s 31ms/step - loss: 5.0603e-05\n",
      "Epoch 34/100\n",
      "23/23 [==============================] - 1s 31ms/step - loss: 4.9566e-05\n",
      "Epoch 35/100\n",
      "23/23 [==============================] - 1s 31ms/step - loss: 4.6973e-05\n",
      "Epoch 36/100\n",
      "23/23 [==============================] - 1s 32ms/step - loss: 4.8792e-05\n",
      "Epoch 37/100\n",
      "23/23 [==============================] - 1s 33ms/step - loss: 5.1030e-05\n",
      "Epoch 38/100\n",
      "23/23 [==============================] - 1s 36ms/step - loss: 4.7473e-05\n",
      "Epoch 39/100\n",
      "23/23 [==============================] - 1s 32ms/step - loss: 4.5520e-05\n",
      "Epoch 40/100\n",
      "23/23 [==============================] - 1s 33ms/step - loss: 4.5911e-05\n",
      "Epoch 41/100\n",
      "23/23 [==============================] - 1s 31ms/step - loss: 4.7495e-05\n",
      "Epoch 42/100\n",
      "23/23 [==============================] - 1s 31ms/step - loss: 5.0568e-05\n",
      "Epoch 43/100\n",
      "23/23 [==============================] - 1s 31ms/step - loss: 4.4290e-05\n",
      "Epoch 44/100\n",
      "23/23 [==============================] - 1s 31ms/step - loss: 4.4787e-05\n",
      "Epoch 45/100\n",
      "23/23 [==============================] - 1s 32ms/step - loss: 4.3315e-05\n",
      "Epoch 46/100\n",
      "23/23 [==============================] - 1s 31ms/step - loss: 4.4869e-05: 0s - loss: 4.7395e\n",
      "Epoch 47/100\n",
      "23/23 [==============================] - 1s 31ms/step - loss: 4.6548e-05\n",
      "Epoch 48/100\n",
      "23/23 [==============================] - 1s 31ms/step - loss: 4.4489e-05\n",
      "Epoch 49/100\n",
      "23/23 [==============================] - 1s 32ms/step - loss: 4.4944e-05\n",
      "Epoch 50/100\n",
      "23/23 [==============================] - 1s 31ms/step - loss: 4.5247e-05\n",
      "Epoch 51/100\n",
      "23/23 [==============================] - 1s 31ms/step - loss: 4.2418e-05\n",
      "Epoch 52/100\n",
      "23/23 [==============================] - 1s 32ms/step - loss: 4.2940e-05\n",
      "Epoch 53/100\n",
      "23/23 [==============================] - 1s 31ms/step - loss: 4.1407e-05\n",
      "Epoch 54/100\n",
      "23/23 [==============================] - 1s 32ms/step - loss: 4.2826e-05\n",
      "Epoch 55/100\n",
      "23/23 [==============================] - 1s 34ms/step - loss: 4.6161e-05\n",
      "Epoch 56/100\n",
      "23/23 [==============================] - 1s 45ms/step - loss: 4.2005e-05: 0s - loss: 3.\n",
      "Epoch 57/100\n",
      "23/23 [==============================] - 1s 33ms/step - loss: 4.2139e-05\n",
      "Epoch 58/100\n",
      "23/23 [==============================] - 1s 32ms/step - loss: 4.1967e-05\n",
      "Epoch 59/100\n",
      "23/23 [==============================] - 1s 34ms/step - loss: 4.4214e-05\n",
      "Epoch 60/100\n",
      "23/23 [==============================] - 1s 33ms/step - loss: 4.2912e-05\n",
      "Epoch 61/100\n",
      "23/23 [==============================] - 1s 32ms/step - loss: 3.9879e-05\n",
      "Epoch 62/100\n",
      "23/23 [==============================] - 1s 34ms/step - loss: 4.7710e-05\n",
      "Epoch 63/100\n",
      "23/23 [==============================] - 1s 34ms/step - loss: 5.1751e-05\n",
      "Epoch 64/100\n",
      "23/23 [==============================] - 1s 33ms/step - loss: 4.0261e-05: 0s - loss: 4.0261e-0\n",
      "Epoch 65/100\n",
      "23/23 [==============================] - 1s 35ms/step - loss: 3.8574e-05\n",
      "Epoch 66/100\n",
      "23/23 [==============================] - 1s 33ms/step - loss: 3.7545e-05\n",
      "Epoch 67/100\n",
      "23/23 [==============================] - 1s 32ms/step - loss: 4.3889e-05: 0s - loss: 4.386\n",
      "Epoch 68/100\n",
      "23/23 [==============================] - 1s 32ms/step - loss: 4.3195e-05\n",
      "Epoch 69/100\n",
      "23/23 [==============================] - 1s 31ms/step - loss: 3.8098e-05\n",
      "Epoch 70/100\n",
      "23/23 [==============================] - 1s 32ms/step - loss: 3.8926e-05\n",
      "Epoch 71/100\n",
      "23/23 [==============================] - 1s 32ms/step - loss: 4.0852e-05\n",
      "Epoch 72/100\n",
      "23/23 [==============================] - ETA: 0s - loss: 4.4495e-0 - 1s 31ms/step - loss: 4.5206e-05\n",
      "Epoch 73/100\n",
      "23/23 [==============================] - 1s 31ms/step - loss: 4.0406e-05\n",
      "Epoch 74/100\n",
      "23/23 [==============================] - 1s 32ms/step - loss: 3.8034e-05\n",
      "Epoch 75/100\n",
      "23/23 [==============================] - 1s 31ms/step - loss: 3.9235e-05\n",
      "Epoch 76/100\n",
      "23/23 [==============================] - 1s 32ms/step - loss: 3.9092e-05\n",
      "Epoch 77/100\n",
      "23/23 [==============================] - 1s 31ms/step - loss: 3.8997e-05\n",
      "Epoch 78/100\n",
      "23/23 [==============================] - 1s 31ms/step - loss: 3.7250e-05\n",
      "Epoch 79/100\n",
      "23/23 [==============================] - 1s 31ms/step - loss: 3.5204e-05\n",
      "Epoch 80/100\n",
      "23/23 [==============================] - 1s 33ms/step - loss: 3.7182e-05\n",
      "Epoch 81/100\n",
      "23/23 [==============================] - 1s 39ms/step - loss: 4.1206e-05\n",
      "Epoch 82/100\n",
      "23/23 [==============================] - 1s 33ms/step - loss: 3.8517e-05\n",
      "Epoch 83/100\n",
      "23/23 [==============================] - 1s 31ms/step - loss: 3.7415e-05\n",
      "Epoch 84/100\n",
      "23/23 [==============================] - 1s 32ms/step - loss: 3.6963e-05\n",
      "Epoch 85/100\n",
      "23/23 [==============================] - 1s 31ms/step - loss: 3.6567e-05\n",
      "Epoch 86/100\n",
      "23/23 [==============================] - 1s 33ms/step - loss: 3.7113e-05\n",
      "Epoch 87/100\n",
      "23/23 [==============================] - 1s 35ms/step - loss: 3.6455e-05\n",
      "Epoch 88/100\n",
      "23/23 [==============================] - 1s 34ms/step - loss: 3.6731e-05\n",
      "Epoch 89/100\n",
      "23/23 [==============================] - 1s 33ms/step - loss: 3.5602e-05\n",
      "Epoch 90/100\n",
      "23/23 [==============================] - 1s 32ms/step - loss: 3.6122e-05\n",
      "Epoch 91/100\n",
      "23/23 [==============================] - 1s 32ms/step - loss: 3.9860e-05\n",
      "Epoch 92/100\n",
      "23/23 [==============================] - 1s 36ms/step - loss: 3.7825e-05\n",
      "Epoch 93/100\n",
      "23/23 [==============================] - 1s 34ms/step - loss: 3.7798e-05\n",
      "Epoch 94/100\n"
     ]
    },
    {
     "name": "stdout",
     "output_type": "stream",
     "text": [
      "23/23 [==============================] - 1s 33ms/step - loss: 3.5904e-05\n",
      "Epoch 95/100\n",
      "23/23 [==============================] - 1s 33ms/step - loss: 3.5714e-05\n",
      "Epoch 96/100\n",
      "23/23 [==============================] - 1s 35ms/step - loss: 3.4603e-05\n",
      "Epoch 97/100\n",
      "23/23 [==============================] - 1s 34ms/step - loss: 3.6558e-05\n",
      "Epoch 98/100\n",
      "23/23 [==============================] - 1s 34ms/step - loss: 3.5541e-05\n",
      "Epoch 99/100\n",
      "23/23 [==============================] - 1s 33ms/step - loss: 3.8812e-05\n",
      "Epoch 100/100\n",
      "23/23 [==============================] - 1s 35ms/step - loss: 3.8323e-05\n"
     ]
    }
   ],
   "source": [
    "#lstm model\n",
    "\n",
    "model = Sequential()\n",
    "\n",
    "model.add(LSTM(128,  return_sequences = False ,input_shape = (X_train.shape[1], 1)))\n",
    "# model.add(Dropout(0.2))\n",
    "\n",
    "# model.add(LSTM(64,  return_sequences = True ))\n",
    "# model.add(Dropout(0.2))\n",
    "\n",
    "# model.add(LSTM(32,  return_sequences = False))\n",
    "# model.add(Dropout(0.2))\n",
    "\n",
    "model.add(Dense(25))\n",
    "model.add(Dense(1))\n",
    "\n",
    "model.compile(optimizer = 'adam', loss = 'mean_squared_error')\n",
    "\n",
    "history=model.fit(X_train, y_train, epochs = 100, batch_size = 64)\n",
    "\n",
    "# return_sequences : Whether to return the last output in the output sequence, or the full sequence. \n",
    "# epochs is the number of passes of the entire training dataset, more epochs = more accuracy\n",
    "# batch size is the number of training examples utilized in one iteration\n",
    "# The input gate: The input gate adds information to the cell state,\n",
    "# The forget gate: It removes the information that is no longer required by the model,\n",
    "# The output gate: Output Gate at LSTM selects the information to be shown as output.\n",
    "# dense layer is a layer that is deeply connected with its preceding layer which means the neurons of the layer are connected to every neuron of its preceding layer\n",
    "#  Sequential model is a linear stack of layers."
   ]
  },
  {
   "cell_type": "code",
   "execution_count": 98,
   "id": "6ebab93c",
   "metadata": {
    "scrolled": true
   },
   "outputs": [
    {
     "name": "stdout",
     "output_type": "stream",
     "text": [
      "Model: \"sequential_5\"\n",
      "_________________________________________________________________\n",
      " Layer (type)                Output Shape              Param #   \n",
      "=================================================================\n",
      " lstm_8 (LSTM)               (None, 128)               66560     \n",
      "                                                                 \n",
      " dense_10 (Dense)            (None, 25)                3225      \n",
      "                                                                 \n",
      " dense_11 (Dense)            (None, 1)                 26        \n",
      "                                                                 \n",
      "=================================================================\n",
      "Total params: 69,811\n",
      "Trainable params: 69,811\n",
      "Non-trainable params: 0\n",
      "_________________________________________________________________\n"
     ]
    }
   ],
   "source": [
    "model.summary()"
   ]
  },
  {
   "cell_type": "code",
   "execution_count": 99,
   "id": "polish-worship",
   "metadata": {},
   "outputs": [],
   "source": [
    "# Getting the predicted stock price\n",
    "# Once the model is defined, the test dataset is extracted out from the historical data and from there we need to\n",
    "# take the first 30 days as input to the model\n",
    "\n",
    "test_data = scaled_data[n-d:,:]"
   ]
  },
  {
   "cell_type": "code",
   "execution_count": 100,
   "id": "blessed-township",
   "metadata": {},
   "outputs": [
    {
     "name": "stdout",
     "output_type": "stream",
     "text": [
      "(365, 30, 1)\n"
     ]
    }
   ],
   "source": [
    "# The test data is reshaped afterwards.\n",
    "X_test = []\n",
    "y_test = dataset[n:,:]\n",
    "for i in range(d, len(test_data)):\n",
    "    X_test.append(test_data[i-d:i, 0])\n",
    "X_test = np.array(X_test)\n",
    "X_test = np.reshape(X_test, (X_test.shape[0], X_test.shape[1], 1))\n",
    "print(X_test.shape)"
   ]
  },
  {
   "cell_type": "code",
   "execution_count": 101,
   "id": "still-decimal",
   "metadata": {},
   "outputs": [],
   "source": [
    "# The final step of part 1 is to predict the test data set and plot along with the actual dataset\n",
    "\n",
    "predictions = model.predict(X_test)\n",
    "predictions = sc.inverse_transform(predictions)\n"
   ]
  },
  {
   "cell_type": "code",
   "execution_count": 102,
   "id": "87fbf138",
   "metadata": {
    "scrolled": true
   },
   "outputs": [
    {
     "data": {
      "text/plain": [
       "347.02041416952056"
      ]
     },
     "execution_count": 102,
     "metadata": {},
     "output_type": "execute_result"
    }
   ],
   "source": [
    "rmse=np.sqrt(np.mean(predictions - y_test)**2)\n",
    "rmse"
   ]
  },
  {
   "cell_type": "code",
   "execution_count": 103,
   "id": "d09855b0",
   "metadata": {},
   "outputs": [
    {
     "data": {
      "image/png": "[encoded data removed]",
      "text/plain": [
       "<Figure size 720x432 with 1 Axes>"
      ]
     },
     "metadata": {
      "needs_background": "light"
     },
     "output_type": "display_data"
    }
   ],
   "source": [
    "# Visualize the closing price history\n",
    "plt.figure(figsize=(10,6))\n",
    "plt.title('close price history',fontsize=24)\n",
    "plt.plot(df['Close'])\n",
    "plt.xlabel('Date',fontsize=18)\n",
    "plt.ylabel('close price',fontsize=18)\n",
    "plt.show()"
   ]
  },
  {
   "cell_type": "code",
   "execution_count": 104,
   "id": "8065b2fb",
   "metadata": {
    "scrolled": false
   },
   "outputs": [
    {
     "name": "stderr",
     "output_type": "stream",
     "text": [
      "<ipython-input-104-b116c395ed29>:3: SettingWithCopyWarning: \n",
      "A value is trying to be set on a copy of a slice from a DataFrame.\n",
      "Try using .loc[row_indexer,col_indexer] = value instead\n",
      "\n",
      "See the caveats in the documentation: https://pandas.pydata.org/pandas-docs/stable/user_guide/indexing.html#returning-a-view-versus-a-copy\n",
      "  valid['predictions'] = predictions\n"
     ]
    },
    {
     "data": {
      "image/png": "[encoded data removed]",
      "text/plain": [
       "<Figure size 864x432 with 1 Axes>"
      ]
     },
     "metadata": {
      "needs_background": "light"
     },
     "output_type": "display_data"
    }
   ],
   "source": [
    "train = data[:n]\n",
    "valid = data[n:]\n",
    "valid['predictions'] = predictions \n",
    "plt.figure(figsize=(12,6))\n",
    "plt.title('Market Price Prediction')\n",
    "plt.xlabel('Time', fontsize = 18)\n",
    "plt.ylabel('Market Price', fontsize = 18)\n",
    "plt.plot(train['Close'])\n",
    "plt.plot(valid[['Close','predictions']])\n",
    "plt.legend(['Train','Val','predictions'],loc = 'lower right')\n",
    "plt.show()\n"
   ]
  },
  {
   "cell_type": "code",
   "execution_count": 105,
   "id": "00c599db",
   "metadata": {},
   "outputs": [
    {
     "data": {
      "image/png": "[encoded data removed]",
      "text/plain": [
       "<Figure size 432x288 with 1 Axes>"
      ]
     },
     "metadata": {
      "needs_background": "light"
     },
     "output_type": "display_data"
    }
   ],
   "source": [
    "# plot loss \n",
    "plt.plot(history.history['loss'])\n",
    "plt.show()"
   ]
  },
  {
   "cell_type": "code",
   "execution_count": 106,
   "id": "927b6706",
   "metadata": {},
   "outputs": [
    {
     "data": {
      "text/html": [
       "<div>\n",
       "<style scoped>\n",
       "    .dataframe tbody tr th:only-of-type {\n",
       "        vertical-align: middle;\n",
       "    }\n",
       "\n",
       "    .dataframe tbody tr th {\n",
       "        vertical-align: top;\n",
       "    }\n",
       "\n",
       "    .dataframe thead th {\n",
       "        text-align: right;\n",
       "    }\n",
       "</style>\n",
       "<table border=\"1\" class=\"dataframe\">\n",
       "  <thead>\n",
       "    <tr style=\"text-align: right;\">\n",
       "      <th></th>\n",
       "      <th>Close</th>\n",
       "      <th>predictions</th>\n",
       "    </tr>\n",
       "    <tr>\n",
       "      <th>Date</th>\n",
       "      <th></th>\n",
       "      <th></th>\n",
       "    </tr>\n",
       "  </thead>\n",
       "  <tbody>\n",
       "    <tr>\n",
       "      <th>2020-12-17</th>\n",
       "      <td>22805.162109</td>\n",
       "      <td>20900.654297</td>\n",
       "    </tr>\n",
       "    <tr>\n",
       "      <th>2020-12-18</th>\n",
       "      <td>23137.960938</td>\n",
       "      <td>22513.736328</td>\n",
       "    </tr>\n",
       "    <tr>\n",
       "      <th>2020-12-19</th>\n",
       "      <td>23869.832031</td>\n",
       "      <td>23075.175781</td>\n",
       "    </tr>\n",
       "    <tr>\n",
       "      <th>2020-12-20</th>\n",
       "      <td>23477.294922</td>\n",
       "      <td>23710.335938</td>\n",
       "    </tr>\n",
       "    <tr>\n",
       "      <th>2020-12-21</th>\n",
       "      <td>22803.082031</td>\n",
       "      <td>23443.859375</td>\n",
       "    </tr>\n",
       "    <tr>\n",
       "      <th>...</th>\n",
       "      <td>...</td>\n",
       "      <td>...</td>\n",
       "    </tr>\n",
       "    <tr>\n",
       "      <th>2021-12-12</th>\n",
       "      <td>50098.335938</td>\n",
       "      <td>48748.316406</td>\n",
       "    </tr>\n",
       "    <tr>\n",
       "      <th>2021-12-13</th>\n",
       "      <td>46737.480469</td>\n",
       "      <td>49834.820312</td>\n",
       "    </tr>\n",
       "    <tr>\n",
       "      <th>2021-12-14</th>\n",
       "      <td>46612.632812</td>\n",
       "      <td>46866.308594</td>\n",
       "    </tr>\n",
       "    <tr>\n",
       "      <th>2021-12-15</th>\n",
       "      <td>48896.722656</td>\n",
       "      <td>46183.964844</td>\n",
       "    </tr>\n",
       "    <tr>\n",
       "      <th>2021-12-16</th>\n",
       "      <td>49190.968750</td>\n",
       "      <td>48272.488281</td>\n",
       "    </tr>\n",
       "  </tbody>\n",
       "</table>\n",
       "<p>365 rows × 2 columns</p>\n",
       "</div>"
      ],
      "text/plain": [
       "                   Close   predictions\n",
       "Date                                  \n",
       "2020-12-17  22805.162109  20900.654297\n",
       "2020-12-18  23137.960938  22513.736328\n",
       "2020-12-19  23869.832031  23075.175781\n",
       "2020-12-20  23477.294922  23710.335938\n",
       "2020-12-21  22803.082031  23443.859375\n",
       "...                  ...           ...\n",
       "2021-12-12  50098.335938  48748.316406\n",
       "2021-12-13  46737.480469  49834.820312\n",
       "2021-12-14  46612.632812  46866.308594\n",
       "2021-12-15  48896.722656  46183.964844\n",
       "2021-12-16  49190.968750  48272.488281\n",
       "\n",
       "[365 rows x 2 columns]"
      ]
     },
     "execution_count": 106,
     "metadata": {},
     "output_type": "execute_result"
    }
   ],
   "source": [
    "valid"
   ]
  },
  {
   "cell_type": "markdown",
   "id": "express-column",
   "metadata": {},
   "source": [
    "## Tomorrow's predicted price"
   ]
  },
  {
   "cell_type": "code",
   "execution_count": 107,
   "id": "2c8230b2",
   "metadata": {},
   "outputs": [
    {
     "name": "stdout",
     "output_type": "stream",
     "text": [
      "[[48949.703]]\n"
     ]
    }
   ],
   "source": [
    "new_stock = yf.Ticker(\"BTC-USD\")\n",
    "new_hist = new_stock.history(period=\"5y\")\n",
    "\n",
    "new_df=new_hist\n",
    "hist.tail(10)\n",
    "\n",
    "new_df2 = new_df.filter(['Close'])\n",
    "\n",
    "last_30_days = new_df2[-d:].values\n",
    "\n",
    "last_30_days_scaled = sc.transform(last_30_days)\n",
    "\n",
    "x_test = []\n",
    "\n",
    "x_test.append(last_30_days_scaled)\n",
    "\n",
    "x_test = np.array(x_test)\n",
    "\n",
    "x_test = np.reshape(x_test,(x_test.shape[0],x_test.shape[1],1))\n",
    "\n",
    "predictions_price = model.predict(x_test)\n",
    "\n",
    "predictions_price = sc.inverse_transform(predictions_price)\n",
    "\n",
    "print(predictions_price)"
   ]
  },
  {
   "cell_type": "code",
   "execution_count": 108,
   "id": "fb86318d",
   "metadata": {},
   "outputs": [
    {
     "data": {
      "text/html": [
       "<div>\n",
       "<style scoped>\n",
       "    .dataframe tbody tr th:only-of-type {\n",
       "        vertical-align: middle;\n",
       "    }\n",
       "\n",
       "    .dataframe tbody tr th {\n",
       "        vertical-align: top;\n",
       "    }\n",
       "\n",
       "    .dataframe thead th {\n",
       "        text-align: right;\n",
       "    }\n",
       "</style>\n",
       "<table border=\"1\" class=\"dataframe\">\n",
       "  <thead>\n",
       "    <tr style=\"text-align: right;\">\n",
       "      <th></th>\n",
       "      <th>Open</th>\n",
       "      <th>High</th>\n",
       "      <th>Low</th>\n",
       "      <th>Close</th>\n",
       "      <th>Volume</th>\n",
       "      <th>Dividends</th>\n",
       "      <th>Stock Splits</th>\n",
       "    </tr>\n",
       "    <tr>\n",
       "      <th>Date</th>\n",
       "      <th></th>\n",
       "      <th></th>\n",
       "      <th></th>\n",
       "      <th></th>\n",
       "      <th></th>\n",
       "      <th></th>\n",
       "      <th></th>\n",
       "    </tr>\n",
       "  </thead>\n",
       "  <tbody>\n",
       "    <tr>\n",
       "      <th>2016-12-16</th>\n",
       "      <td>778.963013</td>\n",
       "      <td>785.031982</td>\n",
       "      <td>778.963013</td>\n",
       "      <td>784.906982</td>\n",
       "      <td>83608200</td>\n",
       "      <td>0</td>\n",
       "      <td>0</td>\n",
       "    </tr>\n",
       "    <tr>\n",
       "      <th>2016-12-17</th>\n",
       "      <td>785.166016</td>\n",
       "      <td>792.508972</td>\n",
       "      <td>784.864014</td>\n",
       "      <td>790.828979</td>\n",
       "      <td>78989800</td>\n",
       "      <td>0</td>\n",
       "      <td>0</td>\n",
       "    </tr>\n",
       "    <tr>\n",
       "      <th>2016-12-18</th>\n",
       "      <td>791.007996</td>\n",
       "      <td>794.737000</td>\n",
       "      <td>788.026001</td>\n",
       "      <td>790.530029</td>\n",
       "      <td>60524400</td>\n",
       "      <td>0</td>\n",
       "      <td>0</td>\n",
       "    </tr>\n",
       "    <tr>\n",
       "      <th>2016-12-19</th>\n",
       "      <td>790.692017</td>\n",
       "      <td>793.611023</td>\n",
       "      <td>790.320007</td>\n",
       "      <td>792.713989</td>\n",
       "      <td>74886400</td>\n",
       "      <td>0</td>\n",
       "      <td>0</td>\n",
       "    </tr>\n",
       "    <tr>\n",
       "      <th>2016-12-20</th>\n",
       "      <td>792.247009</td>\n",
       "      <td>801.336975</td>\n",
       "      <td>791.497009</td>\n",
       "      <td>800.875977</td>\n",
       "      <td>99629296</td>\n",
       "      <td>0</td>\n",
       "      <td>0</td>\n",
       "    </tr>\n",
       "    <tr>\n",
       "      <th>...</th>\n",
       "      <td>...</td>\n",
       "      <td>...</td>\n",
       "      <td>...</td>\n",
       "      <td>...</td>\n",
       "      <td>...</td>\n",
       "      <td>...</td>\n",
       "      <td>...</td>\n",
       "    </tr>\n",
       "    <tr>\n",
       "      <th>2021-12-12</th>\n",
       "      <td>49354.855469</td>\n",
       "      <td>50724.867188</td>\n",
       "      <td>48725.851562</td>\n",
       "      <td>50098.335938</td>\n",
       "      <td>21939223599</td>\n",
       "      <td>0</td>\n",
       "      <td>0</td>\n",
       "    </tr>\n",
       "    <tr>\n",
       "      <th>2021-12-13</th>\n",
       "      <td>50114.742188</td>\n",
       "      <td>50205.000000</td>\n",
       "      <td>45894.847656</td>\n",
       "      <td>46737.480469</td>\n",
       "      <td>32166727776</td>\n",
       "      <td>0</td>\n",
       "      <td>0</td>\n",
       "    </tr>\n",
       "    <tr>\n",
       "      <th>2021-12-14</th>\n",
       "      <td>46709.824219</td>\n",
       "      <td>48431.398438</td>\n",
       "      <td>46424.496094</td>\n",
       "      <td>46612.632812</td>\n",
       "      <td>34638619079</td>\n",
       "      <td>0</td>\n",
       "      <td>0</td>\n",
       "    </tr>\n",
       "    <tr>\n",
       "      <th>2021-12-15</th>\n",
       "      <td>48379.753906</td>\n",
       "      <td>49473.957031</td>\n",
       "      <td>46671.964844</td>\n",
       "      <td>48896.722656</td>\n",
       "      <td>36541828520</td>\n",
       "      <td>0</td>\n",
       "      <td>0</td>\n",
       "    </tr>\n",
       "    <tr>\n",
       "      <th>2021-12-16</th>\n",
       "      <td>48923.902344</td>\n",
       "      <td>49280.308594</td>\n",
       "      <td>48547.964844</td>\n",
       "      <td>49190.968750</td>\n",
       "      <td>36063006720</td>\n",
       "      <td>0</td>\n",
       "      <td>0</td>\n",
       "    </tr>\n",
       "  </tbody>\n",
       "</table>\n",
       "<p>1823 rows × 7 columns</p>\n",
       "</div>"
      ],
      "text/plain": [
       "                    Open          High           Low         Close  \\\n",
       "Date                                                                 \n",
       "2016-12-16    778.963013    785.031982    778.963013    784.906982   \n",
       "2016-12-17    785.166016    792.508972    784.864014    790.828979   \n",
       "2016-12-18    791.007996    794.737000    788.026001    790.530029   \n",
       "2016-12-19    790.692017    793.611023    790.320007    792.713989   \n",
       "2016-12-20    792.247009    801.336975    791.497009    800.875977   \n",
       "...                  ...           ...           ...           ...   \n",
       "2021-12-12  49354.855469  50724.867188  48725.851562  50098.335938   \n",
       "2021-12-13  50114.742188  50205.000000  45894.847656  46737.480469   \n",
       "2021-12-14  46709.824219  48431.398438  46424.496094  46612.632812   \n",
       "2021-12-15  48379.753906  49473.957031  46671.964844  48896.722656   \n",
       "2021-12-16  48923.902344  49280.308594  48547.964844  49190.968750   \n",
       "\n",
       "                 Volume  Dividends  Stock Splits  \n",
       "Date                                              \n",
       "2016-12-16     83608200          0             0  \n",
       "2016-12-17     78989800          0             0  \n",
       "2016-12-18     60524400          0             0  \n",
       "2016-12-19     74886400          0             0  \n",
       "2016-12-20     99629296          0             0  \n",
       "...                 ...        ...           ...  \n",
       "2021-12-12  21939223599          0             0  \n",
       "2021-12-13  32166727776          0             0  \n",
       "2021-12-14  34638619079          0             0  \n",
       "2021-12-15  36541828520          0             0  \n",
       "2021-12-16  36063006720          0             0  \n",
       "\n",
       "[1823 rows x 7 columns]"
      ]
     },
     "execution_count": 108,
     "metadata": {},
     "output_type": "execute_result"
    }
   ],
   "source": [
    "df"
   ]
  },
  {
   "cell_type": "code",
   "execution_count": null,
   "id": "4c8f2527",
   "metadata": {},
   "outputs": [],
   "source": []
  }
 ],
 "metadata": {
  "kernelspec": {
   "display_name": "Python 3",
   "language": "python",
   "name": "python3"
  },
  "language_info": {
   "codemirror_mode": {
    "name": "ipython",
    "version": 3
   },
   "file_extension": ".py",
   "mimetype": "text/x-python",
   "name": "python",
   "nbconvert_exporter": "python",
   "pygments_lexer": "ipython3",
   "version": "3.8.8"
  }
 },
 "nbformat": 4,
 "nbformat_minor": 5
}
